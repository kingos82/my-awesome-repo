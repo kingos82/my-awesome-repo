{
 "cells": [
  {
   "cell_type": "markdown",
   "metadata": {},
   "source": [
    "# Welcome to the Police Station Lab Computer\n",
    "\n",
    "Let's use the computer, and the data it contains, to see if we can't crack this mystery."
   ]
  },
  {
   "cell_type": "markdown",
   "metadata": {},
   "source": [
    "## First Visit"
   ]
  },
  {
   "cell_type": "markdown",
   "metadata": {},
   "source": [
    "### Gathering Information on Addresses to interview the person who left before the gunshots were heard!\n",
    "\n",
    "First thing to do, is load up the people `.csv` - we'll notice that it's separated by tabs (`\\t`) and there's some comments (`#`), so let's take those into consideration. \n",
    "\n",
    "Then, let's look at the `.head()`!"
   ]
  },
  {
   "cell_type": "code",
   "execution_count": 1,
   "metadata": {},
   "outputs": [
    {
     "name": "stdout",
     "output_type": "stream",
     "text": [
      "Collecting pandas\n",
      "  Downloading pandas-1.5.2-cp38-cp38-win_amd64.whl (11.0 MB)\n",
      "     --------------------------------------- 11.0/11.0 MB 23.4 MB/s eta 0:00:00\n",
      "Requirement already satisfied: python-dateutil>=2.8.1 in c:\\users\\kingo\\anaconda3\\envs\\mlops-course\\lib\\site-packages (from pandas) (2.8.2)\n",
      "Collecting numpy>=1.20.3\n",
      "  Downloading numpy-1.23.5-cp38-cp38-win_amd64.whl (14.7 MB)\n",
      "     --------------------------------------- 14.7/14.7 MB 22.6 MB/s eta 0:00:00\n",
      "Collecting pytz>=2020.1\n",
      "  Downloading pytz-2022.6-py2.py3-none-any.whl (498 kB)\n",
      "     ------------------------------------- 498.1/498.1 kB 15.2 MB/s eta 0:00:00\n",
      "Requirement already satisfied: six>=1.5 in c:\\users\\kingo\\anaconda3\\envs\\mlops-course\\lib\\site-packages (from python-dateutil>=2.8.1->pandas) (1.16.0)\n",
      "Installing collected packages: pytz, numpy, pandas\n",
      "Successfully installed numpy-1.23.5 pandas-1.5.2 pytz-2022.6\n"
     ]
    }
   ],
   "source": [
    "!pip install pandas"
   ]
  },
  {
   "cell_type": "code",
   "execution_count": 2,
   "metadata": {},
   "outputs": [
    {
     "data": {
      "text/html": [
       "<div>\n",
       "<style scoped>\n",
       "    .dataframe tbody tr th:only-of-type {\n",
       "        vertical-align: middle;\n",
       "    }\n",
       "\n",
       "    .dataframe tbody tr th {\n",
       "        vertical-align: top;\n",
       "    }\n",
       "\n",
       "    .dataframe thead th {\n",
       "        text-align: right;\n",
       "    }\n",
       "</style>\n",
       "<table border=\"1\" class=\"dataframe\">\n",
       "  <thead>\n",
       "    <tr style=\"text-align: right;\">\n",
       "      <th></th>\n",
       "      <th>name</th>\n",
       "      <th>gender</th>\n",
       "      <th>age</th>\n",
       "      <th>address</th>\n",
       "    </tr>\n",
       "  </thead>\n",
       "  <tbody>\n",
       "    <tr>\n",
       "      <th>0</th>\n",
       "      <td>Alicia Fuentes</td>\n",
       "      <td>F</td>\n",
       "      <td>48</td>\n",
       "      <td>Walton Street, line 433</td>\n",
       "    </tr>\n",
       "    <tr>\n",
       "      <th>1</th>\n",
       "      <td>Jo-Ting Losev</td>\n",
       "      <td>F</td>\n",
       "      <td>46</td>\n",
       "      <td>Hemenway Street, line 390</td>\n",
       "    </tr>\n",
       "    <tr>\n",
       "      <th>2</th>\n",
       "      <td>Elena Edmonds</td>\n",
       "      <td>F</td>\n",
       "      <td>58</td>\n",
       "      <td>Elmwood Avenue, line 123</td>\n",
       "    </tr>\n",
       "    <tr>\n",
       "      <th>3</th>\n",
       "      <td>Naydene Cabral</td>\n",
       "      <td>F</td>\n",
       "      <td>46</td>\n",
       "      <td>Winthrop Street, line 454</td>\n",
       "    </tr>\n",
       "    <tr>\n",
       "      <th>4</th>\n",
       "      <td>Dato Rosengren</td>\n",
       "      <td>M</td>\n",
       "      <td>22</td>\n",
       "      <td>Mystic Street, line 477</td>\n",
       "    </tr>\n",
       "  </tbody>\n",
       "</table>\n",
       "</div>"
      ],
      "text/plain": [
       "             name gender  age                    address\n",
       "0  Alicia Fuentes      F   48    Walton Street, line 433\n",
       "1   Jo-Ting Losev      F   46  Hemenway Street, line 390\n",
       "2   Elena Edmonds      F   58   Elmwood Avenue, line 123\n",
       "3  Naydene Cabral      F   46  Winthrop Street, line 454\n",
       "4  Dato Rosengren      M   22    Mystic Street, line 477"
      ]
     },
     "execution_count": 2,
     "metadata": {},
     "output_type": "execute_result"
    }
   ],
   "source": [
    "import pandas as pd\n",
    "\n",
    "people_dataframe = pd.read_csv('./data/people/people.csv', comment='#', sep='\\t')\n",
    "people_dataframe.head()"
   ]
  },
  {
   "cell_type": "markdown",
   "metadata": {},
   "source": [
    "Let's use some indexing to find out if we can narrow this list down!"
   ]
  },
  {
   "cell_type": "code",
   "execution_count": 5,
   "metadata": {},
   "outputs": [
    {
     "data": {
      "text/html": [
       "<div>\n",
       "<style scoped>\n",
       "    .dataframe tbody tr th:only-of-type {\n",
       "        vertical-align: middle;\n",
       "    }\n",
       "\n",
       "    .dataframe tbody tr th {\n",
       "        vertical-align: top;\n",
       "    }\n",
       "\n",
       "    .dataframe thead th {\n",
       "        text-align: right;\n",
       "    }\n",
       "</style>\n",
       "<table border=\"1\" class=\"dataframe\">\n",
       "  <thead>\n",
       "    <tr style=\"text-align: right;\">\n",
       "      <th></th>\n",
       "      <th>name</th>\n",
       "      <th>gender</th>\n",
       "      <th>age</th>\n",
       "      <th>address</th>\n",
       "    </tr>\n",
       "  </thead>\n",
       "  <tbody>\n",
       "    <tr>\n",
       "      <th>269</th>\n",
       "      <td>Annabel Sun</td>\n",
       "      <td>F</td>\n",
       "      <td>26</td>\n",
       "      <td>Hart Place, line 40</td>\n",
       "    </tr>\n",
       "    <tr>\n",
       "      <th>1661</th>\n",
       "      <td>Annabel Church</td>\n",
       "      <td>F</td>\n",
       "      <td>38</td>\n",
       "      <td>Buckingham Place, line 179</td>\n",
       "    </tr>\n",
       "  </tbody>\n",
       "</table>\n",
       "</div>"
      ],
      "text/plain": [
       "                name gender  age                     address\n",
       "269      Annabel Sun      F   26         Hart Place, line 40\n",
       "1661  Annabel Church      F   38  Buckingham Place, line 179"
      ]
     },
     "execution_count": 5,
     "metadata": {},
     "output_type": "execute_result"
    }
   ],
   "source": [
    "### START CODE HERE ###\n",
    "\n",
    "# be sure to include the information in the format provided from the DataFrame above!\n",
    "#potential_interviewees = people_dataframe[(people_dataframe['name'].str.contains('<INSERT THE NAME>')) & (people_dataframe['gender'] == '<INSERT THE GENDER HERE>')]\n",
    "potential_interviewees = people_dataframe[(people_dataframe['name'].str.contains('Annabel')) & (people_dataframe['gender'] == 'F')]\n",
    "\n",
    "### END CODE HERE ###\n",
    "\n",
    "potential_interviewees.head()"
   ]
  },
  {
   "cell_type": "markdown",
   "metadata": {},
   "source": [
    "### Time for more investigation!\n",
    "\n",
    "You'll need to hit the streets before you can pull up any relevant interviews, come back when you've knocked on the doors on the addresses you found!"
   ]
  },
  {
   "cell_type": "markdown",
   "metadata": {},
   "source": [
    "## Second Visit"
   ]
  },
  {
   "cell_type": "markdown",
   "metadata": {},
   "source": [
    "### Checking out the interviews\n",
    "\n",
    "Now that you have the interviews you want to check out, let's see what they say!\n",
    "\n",
    "We'll use the `glob`, and `os` standard library to collect all the data together into a usable format"
   ]
  },
  {
   "cell_type": "code",
   "execution_count": 33,
   "metadata": {},
   "outputs": [
    {
     "name": "stdout",
     "output_type": "stream",
     "text": [
      "./*\n",
      "['.\\\\interview-40610944', '.\\\\interview-704443', '.\\\\interview-229443', '.\\\\interview-728181', '.\\\\interview-68764140', '.\\\\interview-796439', '.\\\\interview-1108561', '.\\\\interview-94126412', '.\\\\interview-7863761', '.\\\\interview-0953437', '.\\\\interview-305694', '.\\\\interview-645385', '.\\\\interview-73585672', '.\\\\interview-498331', '.\\\\interview-79411932', '.\\\\interview-11817172', '.\\\\interview-2922290', '.\\\\interview-93473333', '.\\\\interview-676473', '.\\\\interview-223913', '.\\\\interview-706620', '.\\\\interview-496772', '.\\\\interview-4673074', '.\\\\interview-6884359', '.\\\\interview-457117', '.\\\\interview-87126591', '.\\\\interview-862173', '.\\\\interview-255531', '.\\\\interview-86395001', '.\\\\interview-1642421', '.\\\\interview-720268', '.\\\\interview-11705111', '.\\\\interview-659803', '.\\\\interview-1269181', '.\\\\interview-789564', '.\\\\interview-45615686', '.\\\\interview-7998181', '.\\\\interview-48148020', '.\\\\interview-03098229', '.\\\\interview-1857368', '.\\\\interview-1933118', '.\\\\interview-259909', '.\\\\interview-34041151', '.\\\\interview-020337', '.\\\\interview-00502304', '.\\\\interview-325611', '.\\\\interview-901603', '.\\\\interview-99643550', '.\\\\interview-04393507', '.\\\\interview-65792229', '.\\\\interview-353218', '.\\\\interview-97409610', '.\\\\interview-849256', '.\\\\interview-911451', '.\\\\interview-75434722', '.\\\\interview-25834905', '.\\\\interview-70067280', '.\\\\interview-8402388', '.\\\\interview-6894000', '.\\\\interview-55841398', '.\\\\interview-1643440', '.\\\\interview-179719', '.\\\\interview-16889008', '.\\\\interview-9912172', '.\\\\interview-528044', '.\\\\interview-4765278', '.\\\\interview-7305678', '.\\\\interview-825165', '.\\\\interview-901645', '.\\\\interview-253705', '.\\\\interview-9824821', '.\\\\interview-637657', '.\\\\interview-125204', '.\\\\interview-604403', '.\\\\interview-879569', '.\\\\interview-7959148', '.\\\\interview-391811', '.\\\\interview-0768255', '.\\\\interview-17827186', '.\\\\interview-4366523', '.\\\\interview-862717', '.\\\\interview-77014856', '.\\\\interview-3804339', '.\\\\interview-982013', '.\\\\interview-7103823', '.\\\\interview-591273', '.\\\\interview-794525', '.\\\\interview-466195', '.\\\\interview-9501580', '.\\\\interview-54851634', '.\\\\interview-40534453', '.\\\\interview-13889608', '.\\\\interview-351963', '.\\\\interview-3128999', '.\\\\interview-9446528', '.\\\\interview-755037', '.\\\\interview-41553314', '.\\\\interview-999372', '.\\\\interview-980963', '.\\\\interview-70458099', '.\\\\interview-5774468', '.\\\\interview-27504937', '.\\\\interview-6203192', '.\\\\interview-2601508', '.\\\\interview-833367', '.\\\\interview-944493', '.\\\\interview-44533008', '.\\\\interview-1578206', '.\\\\interview-70199425', '.\\\\interview-822576', '.\\\\interview-608607', '.\\\\interview-92670500', '.\\\\interview-00805135', '.\\\\interview-0732631', '.\\\\interview-000296', '.\\\\interview-891720', '.\\\\interview-306616', '.\\\\interview-95601730', '.\\\\interview-37747405', '.\\\\interview-29838622', '.\\\\interview-871877', '.\\\\interview-016463', '.\\\\interview-322305', '.\\\\interview-06032377', '.\\\\interview-347303', '.\\\\interview-917210', '.\\\\interview-2415821', '.\\\\interview-673985', '.\\\\interview-155049', '.\\\\interview-409731', '.\\\\interview-0613334', '.\\\\interview-60081985', '.\\\\interview-54619323', '.\\\\interview-98912259', '.\\\\interview-63308519', '.\\\\interview-71186817', '.\\\\interview-34359897', '.\\\\interview-5143029', '.\\\\interview-91673757', '.\\\\interview-275706', '.\\\\interview-90394637', '.\\\\interview-3871242', '.\\\\interview-3588302', '.\\\\interview-81443363', '.\\\\interview-927642', '.\\\\interview-2481877', '.\\\\interview-39481114', '.\\\\interview-32365018', '.\\\\interview-4223536', '.\\\\interview-699607', '.\\\\interview-9969223', '.\\\\interview-18193261', '.\\\\interview-54026669', '.\\\\interview-9709892', '.\\\\interview-159848', '.\\\\interview-780255', '.\\\\interview-02422821', '.\\\\interview-0234126', '.\\\\interview-114661', '.\\\\interview-6933068', '.\\\\interview-566707', '.\\\\interview-9346061', '.\\\\interview-730123', '.\\\\interview-332596', '.\\\\interview-58910793', '.\\\\interview-4335306', '.\\\\interview-00617019', '.\\\\interview-16098538', '.\\\\interview-485229', '.\\\\interview-416243', '.\\\\interview-79935965', '.\\\\interview-628618', '.\\\\interview-1310392', '.\\\\interview-18441251', '.\\\\interview-5766907', '.\\\\interview-509105', '.\\\\interview-42934869', '.\\\\interview-861780', '.\\\\interview-737609', '.\\\\interview-8421696', '.\\\\interview-092423', '.\\\\interview-448086', '.\\\\interview-7254073', '.\\\\interview-23371263', '.\\\\interview-84688694', '.\\\\interview-284560', '.\\\\interview-36527398', '.\\\\interview-865918', '.\\\\interview-331178', '.\\\\interview-0315125', '.\\\\interview-75633580', '.\\\\interview-53318557', '.\\\\interview-56892213', '.\\\\interview-831512', '.\\\\interview-3201508', '.\\\\interview-2846076', '.\\\\my-awesome-repo', '.\\\\interview-344331', '.\\\\interview-55435298', '.\\\\interview-71298441', '.\\\\interview-1205060', '.\\\\interview-55410365', '.\\\\interview-289524', '.\\\\interview-364735', '.\\\\interview-856221', '.\\\\interview-243703', '.\\\\interview-32712166', '.\\\\interview-33399976', '.\\\\interview-0251720', '.\\\\interview-044492', '.\\\\interview-2995681', '.\\\\interview-9901455', '.\\\\interview-97043057', '.\\\\interview-8586380', '.\\\\interview-920304', '.\\\\interview-499096', '.\\\\interview-68488577', '.\\\\interview-9620713', '.\\\\interview-7066082', '.\\\\interview-838259', '.\\\\interview-6808205', '.\\\\interview-14153840', '.\\\\interview-8531248', '.\\\\interview-5905106', '.\\\\interview-34690644', '.\\\\interview-538900', '.\\\\interview-312546', '.\\\\interview-066291', '.\\\\interview-50291987', '.\\\\interview-301018', '.\\\\interview-9618669', '.\\\\interview-8245680', '.\\\\interview-17248453', '.\\\\interview-29316965', '.\\\\interview-0462097', '.\\\\interview-0349327', '.\\\\interview-703831', '.\\\\interview-4950099', '.\\\\interview-8387710', '.\\\\interview-638121', '.\\\\interview-514793', '.\\\\interview-2939888', '.\\\\interview-290346', '.\\\\interview-938991', '.\\\\interview-1250176', '.\\\\interview-4299898', '.\\\\interview-791289', '.\\\\interview-13920860', '.\\\\interview-41814745', '.\\\\interview-2976680', '.\\\\interview-3140662', '.\\\\interview-14590717', '.\\\\interview-8631232', '.\\\\interview-353467', '.\\\\interview-3917097', '.\\\\interview-26373485', '.\\\\interview-36398447', '.\\\\interview-2834518', '.\\\\interview-250112', '.\\\\interview-6643191', '.\\\\interview-00448418', '.\\\\interview-1823688', '.\\\\interview-109118', '.\\\\interview-5372865', '.\\\\interview-1395414', '.\\\\interview-9004767', '.\\\\interview-5993978', '.\\\\interview-42396365', '.\\\\interview-4463090', '.\\\\interview-3871205', '.\\\\interview-67790846', '.\\\\interview-565396', '.\\\\interview-71993338', '.\\\\interview-342393', '.\\\\interview-4735823', '.\\\\interview-11495001', '.\\\\interview-9712946', '.\\\\interview-50168425', '.\\\\interview-071537', '.\\\\interview-4262657', '.\\\\interview-022751', '.\\\\interview-38299069', '.\\\\interview-2326746', '.\\\\interview-279087', '.\\\\interview-896668', '.\\\\interview-9728756', '.\\\\interview-71226767', '.\\\\interview-38899905', '.\\\\interview-340396', '.\\\\interview-3099757', '.\\\\interview-102490', '.\\\\interview-7580872', '.\\\\interview-618764', '.\\\\interview-69170457', '.\\\\interview-2642139', '.\\\\interview-478217', '.\\\\interview-116803', '.\\\\interview-376115', '.\\\\interview-8095917', '.\\\\interview-904020', '.\\\\interview-3824641', '.\\\\interview-27042476', '.\\\\interview-57236791', '.\\\\interview-096267', '.\\\\interview-125271', '.\\\\interview-3049045', '.\\\\interview-8819490', '.\\\\interview-4225866', '.\\\\interview-144873', '.\\\\interview-6093093', '.\\\\interview-049721', '.\\\\interview-5835471', '.\\\\interview-354262', '.\\\\interview-541518', '.\\\\interview-95095182', '.\\\\interview-1186827', '.\\\\interview-707438', '.\\\\interview-141030', '.\\\\interview-19577850', '.\\\\interview-42161907', '.\\\\interview-809922', '.\\\\interview-7541406', '.\\\\interview-15354942', '.\\\\interview-770439', '.\\\\interview-39825862', '.\\\\interview-529706', '.\\\\interview-55477243', '.\\\\interview-31635890', '.\\\\interview-579105', '.\\\\interview-92391023', '.\\\\interview-5455315', '.\\\\interview-1767435', '.\\\\interview-8700943', '.\\\\interview-6417794', '.\\\\interview-9074626', '.\\\\interview-5782759', '.\\\\interview-9651888', '.\\\\interview-1536668', '.\\\\interview-233800', '.\\\\interview-708943', '.\\\\interview-29741223', '.\\\\interview-66101490', '.\\\\interview-9185205', '.\\\\interview-812725', '.\\\\interview-23167806', '.\\\\interview-1850922', '.\\\\interview-55984022', '.\\\\interview-77135281', '.\\\\interview-73035802', '.\\\\interview-549055', '.\\\\interview-52280505', '.\\\\interview-68195573', '.\\\\interview-147283', '.\\\\interview-66282920', '.\\\\interview-48088300', '.\\\\interview-191206', '.\\\\interview-034070', '.\\\\interview-555536', '.\\\\interview-30259493', '.\\\\interview-8464899', '.\\\\interview-15187437', '.\\\\interview-1906958', '.\\\\interview-291440', '.\\\\interview-7180973', '.\\\\interview-74225310', '.\\\\interview-9437737', '.\\\\interview-9711852', '.\\\\interview-218131', '.\\\\interview-4961376', '.\\\\interview-25582311', '.\\\\interview-1811770', '.\\\\interview-17343208', '.\\\\interview-324389', '.\\\\interview-221039', '.\\\\interview-210355', '.\\\\interview-296128', '.\\\\interview-2058907', '.\\\\interview-476744', '.\\\\interview-07497003', '.\\\\interview-9332386', '.\\\\interview-305949', '.\\\\interview-7046684', '.\\\\interview-67279454', '.\\\\interview-19300543', '.\\\\interview-56784802', '.\\\\interview-7791374', '.\\\\interview-680549', '.\\\\interview-457451', '.\\\\interview-05297663', '.\\\\interview-535181', '.\\\\interview-55382746', '.\\\\interview-79667499', '.\\\\interview-7469675', '.\\\\interview-29680692', '.\\\\interview-32639981', '.\\\\interview-9408565', '.\\\\interview-6553472', '.\\\\interview-97393699', '.\\\\interview-03316077', '.\\\\interview-13768464', '.\\\\interview-7422077', '.\\\\interview-11783660', '.\\\\interview-47246024', '.\\\\interview-504687', '.\\\\interview-3609204', '.\\\\interview-2277882', '.\\\\interview-5581158', '.\\\\interview-637928', '.\\\\interview-174898', '.\\\\interview-483817', '.\\\\interview-9666149', '.\\\\interview-4204949', '.\\\\interview-992072', '.\\\\interview-907126', '.\\\\interview-46773428', '.\\\\interview-3074127', '.\\\\interview-93696502', '.\\\\interview-5739404', '.\\\\interview-005702', '.\\\\interview-85262552', '.\\\\interview-79360358', '.\\\\interview-867999', '.\\\\interview-586668', '.\\\\interview-82705993', '.\\\\interview-280877', '.\\\\interview-18270219']\n",
      "\\\\wsl.localhost\\Ubuntu\\home\\kingos82\\Fourthbrain\\code\\my-awesome-repo\n"
     ]
    }
   ],
   "source": [
    "import os \n",
    "import glob\n",
    "\n",
    "#files = os.path.join('./data/interviews/', '*')\n",
    "files = os.path.join('./', '*')\n",
    "\n",
    "print(files)\n",
    "files = glob.glob(files)\n",
    "print(files)\n",
    "print(os.getcwd())"
   ]
  },
  {
   "cell_type": "markdown",
   "metadata": {},
   "source": [
    "Now that we've collected the files neatly, let's comb through them looking for the interviews we want to check!"
   ]
  },
  {
   "cell_type": "code",
   "execution_count": 35,
   "metadata": {},
   "outputs": [
    {
     "name": "stdout",
     "output_type": "stream",
     "text": [
      "---- Interview # 699607 ----\n",
      "Interviewed Ms. Church at 2:04 pm.  Witness stated that she did not see anyone she could identify as the shooter, that she ran away as soon as the shots were fired.\n",
      "\n",
      "However, she reports seeing the car that fled the scene.  Describes it as a blue Honda, with a license plate that starts with \"L337\" and ends with \"9\"\n",
      "\n",
      "\n",
      "\n",
      "---- Interview # 47246024 ----\n",
      "Ms. Sun has brown hair and is not from New Zealand.  Not the witness from the cafe.\n",
      "\n",
      "\n",
      "\n"
     ]
    }
   ],
   "source": [
    "### START CODE HERE ###\n",
    "\n",
    "interview_nums = [\n",
    "    \"47246024\", \"699607\"\n",
    "]\n",
    "\n",
    "### END CODE HERE ###\n",
    "\n",
    "for file in files:\n",
    "    #print(file)\n",
    "    if file.split('-')[1] in interview_nums:\n",
    "        with open(file, 'r') as f:\n",
    "            print(f'---- Interview # {file.split(\"-\")[1]} ----')\n",
    "            print(f.read())\n",
    "            print('\\n')"
   ]
  },
  {
   "cell_type": "markdown",
   "metadata": {},
   "source": [
    "Let's take note of that information, and check the vehicle database to see if we can find a suspect!"
   ]
  },
  {
   "cell_type": "markdown",
   "metadata": {},
   "source": [
    "### Checking the Vehicle Database\n",
    "\n",
    "Now that we have some more information, we should be able to put the facts we've figured out thusfar together to get a suspect!\n",
    "\n",
    "Let's start by looking through the vehicle data!"
   ]
  },
  {
   "cell_type": "code",
   "execution_count": 37,
   "metadata": {},
   "outputs": [
    {
     "data": {
      "text/html": [
       "<div>\n",
       "<style scoped>\n",
       "    .dataframe tbody tr th:only-of-type {\n",
       "        vertical-align: middle;\n",
       "    }\n",
       "\n",
       "    .dataframe tbody tr th {\n",
       "        vertical-align: top;\n",
       "    }\n",
       "\n",
       "    .dataframe thead th {\n",
       "        text-align: right;\n",
       "    }\n",
       "</style>\n",
       "<table border=\"1\" class=\"dataframe\">\n",
       "  <thead>\n",
       "    <tr style=\"text-align: right;\">\n",
       "      <th></th>\n",
       "      <th>License Plate</th>\n",
       "      <th>Make</th>\n",
       "      <th>Color</th>\n",
       "      <th>Owner</th>\n",
       "      <th>Owner Height</th>\n",
       "      <th>Owner Weight (lbs.)</th>\n",
       "    </tr>\n",
       "  </thead>\n",
       "  <tbody>\n",
       "    <tr>\n",
       "      <th>0</th>\n",
       "      <td>T3YUHF6</td>\n",
       "      <td>Toyota</td>\n",
       "      <td>Yellow</td>\n",
       "      <td>Jianbo Megannem</td>\n",
       "      <td>5'6\"</td>\n",
       "      <td>246</td>\n",
       "    </tr>\n",
       "    <tr>\n",
       "      <th>1</th>\n",
       "      <td>EZ21ECE</td>\n",
       "      <td>BMW</td>\n",
       "      <td>Gold</td>\n",
       "      <td>Norbert Feldwehr</td>\n",
       "      <td>5'3\"</td>\n",
       "      <td>205</td>\n",
       "    </tr>\n",
       "    <tr>\n",
       "      <th>2</th>\n",
       "      <td>CQN2TJE</td>\n",
       "      <td>Mazda</td>\n",
       "      <td>Red</td>\n",
       "      <td>Alexandra Jokinen</td>\n",
       "      <td>5'11\"</td>\n",
       "      <td>227</td>\n",
       "    </tr>\n",
       "    <tr>\n",
       "      <th>3</th>\n",
       "      <td>D875IMS</td>\n",
       "      <td>Cadillac</td>\n",
       "      <td>Orange</td>\n",
       "      <td>Thi Kostadinov</td>\n",
       "      <td>5'11\"</td>\n",
       "      <td>198</td>\n",
       "    </tr>\n",
       "    <tr>\n",
       "      <th>4</th>\n",
       "      <td>Q0SK1KP</td>\n",
       "      <td>Cadillac</td>\n",
       "      <td>Red</td>\n",
       "      <td>Sidni Sze</td>\n",
       "      <td>5'9\"</td>\n",
       "      <td>199</td>\n",
       "    </tr>\n",
       "  </tbody>\n",
       "</table>\n",
       "</div>"
      ],
      "text/plain": [
       "  License Plate      Make   Color              Owner Owner Height  \\\n",
       "0       T3YUHF6    Toyota  Yellow    Jianbo Megannem         5'6\"   \n",
       "1       EZ21ECE       BMW    Gold   Norbert Feldwehr         5'3\"   \n",
       "2       CQN2TJE     Mazda     Red  Alexandra Jokinen        5'11\"   \n",
       "3       D875IMS  Cadillac  Orange     Thi Kostadinov        5'11\"   \n",
       "4       Q0SK1KP  Cadillac     Red          Sidni Sze         5'9\"   \n",
       "\n",
       "   Owner Weight (lbs.)  \n",
       "0                  246  \n",
       "1                  205  \n",
       "2                  227  \n",
       "3                  198  \n",
       "4                  199  "
      ]
     },
     "execution_count": 37,
     "metadata": {},
     "output_type": "execute_result"
    }
   ],
   "source": [
    "### START CODE HERE ###\n",
    "\n",
    "vehicle_dataframe = pd.read_csv('./data/vehicles/vehicles.csv', index_col=0)\n",
    "\n",
    "### END CODE HERE ###\n",
    "\n",
    "vehicle_dataframe.head()"
   ]
  },
  {
   "cell_type": "markdown",
   "metadata": {},
   "source": [
    "We know the make and colour the suspect drove while leaving Pandas Express, thanks to the interview, and we also know the suspects height! We also know some information about the suspects license plate! \n",
    "\n",
    "Let's combine all this information and see what we can learn!"
   ]
  },
  {
   "cell_type": "code",
   "execution_count": 47,
   "metadata": {},
   "outputs": [
    {
     "data": {
      "text/html": [
       "<div>\n",
       "<style scoped>\n",
       "    .dataframe tbody tr th:only-of-type {\n",
       "        vertical-align: middle;\n",
       "    }\n",
       "\n",
       "    .dataframe tbody tr th {\n",
       "        vertical-align: top;\n",
       "    }\n",
       "\n",
       "    .dataframe thead th {\n",
       "        text-align: right;\n",
       "    }\n",
       "</style>\n",
       "<table border=\"1\" class=\"dataframe\">\n",
       "  <thead>\n",
       "    <tr style=\"text-align: right;\">\n",
       "      <th></th>\n",
       "      <th>License Plate</th>\n",
       "      <th>Make</th>\n",
       "      <th>Color</th>\n",
       "      <th>Owner</th>\n",
       "      <th>Owner Height</th>\n",
       "      <th>Owner Weight (lbs.)</th>\n",
       "    </tr>\n",
       "  </thead>\n",
       "  <tbody>\n",
       "    <tr>\n",
       "      <th>1023</th>\n",
       "      <td>L337QE9</td>\n",
       "      <td>Honda</td>\n",
       "      <td>Blue</td>\n",
       "      <td>Erika Owens</td>\n",
       "      <td>6'5\"</td>\n",
       "      <td>220</td>\n",
       "    </tr>\n",
       "    <tr>\n",
       "      <th>3547</th>\n",
       "      <td>L337DV9</td>\n",
       "      <td>Honda</td>\n",
       "      <td>Blue</td>\n",
       "      <td>Joe Germuska</td>\n",
       "      <td>6'2\"</td>\n",
       "      <td>164</td>\n",
       "    </tr>\n",
       "    <tr>\n",
       "      <th>4546</th>\n",
       "      <td>L3375A9</td>\n",
       "      <td>Honda</td>\n",
       "      <td>Blue</td>\n",
       "      <td>Jeremy Bowers</td>\n",
       "      <td>6'1\"</td>\n",
       "      <td>204</td>\n",
       "    </tr>\n",
       "    <tr>\n",
       "      <th>4901</th>\n",
       "      <td>L337WR9</td>\n",
       "      <td>Honda</td>\n",
       "      <td>Blue</td>\n",
       "      <td>Jacqui Maher</td>\n",
       "      <td>6'2\"</td>\n",
       "      <td>130</td>\n",
       "    </tr>\n",
       "  </tbody>\n",
       "</table>\n",
       "</div>"
      ],
      "text/plain": [
       "     License Plate   Make Color          Owner Owner Height  \\\n",
       "1023       L337QE9  Honda  Blue    Erika Owens         6'5\"   \n",
       "3547       L337DV9  Honda  Blue   Joe Germuska         6'2\"   \n",
       "4546       L3375A9  Honda  Blue  Jeremy Bowers         6'1\"   \n",
       "4901       L337WR9  Honda  Blue   Jacqui Maher         6'2\"   \n",
       "\n",
       "      Owner Weight (lbs.)  \n",
       "1023                  220  \n",
       "3547                  164  \n",
       "4546                  204  \n",
       "4901                  130  "
      ]
     },
     "execution_count": 47,
     "metadata": {},
     "output_type": "execute_result"
    }
   ],
   "source": [
    "### START CODE HERE ###\n",
    "\n",
    "# be sure to include the information in the format provided from the DataFrame above!\n",
    "vehicle_suspects_dataframe = vehicle_dataframe[\n",
    "    (vehicle_dataframe['Make'] == 'Honda') & \n",
    "    (vehicle_dataframe['Color'] == 'Blue') & \n",
    "    (vehicle_dataframe['License Plate'].str.startswith('L337')) &\n",
    "    (vehicle_dataframe['License Plate'].str.endswith('9')) &\n",
    "    (vehicle_dataframe['Owner Height'].str.startswith('6'))\n",
    "]\n",
    "\n",
    "### END CODE HERE ###\n",
    "\n",
    "vehicle_suspects_dataframe.head()"
   ]
  },
  {
   "cell_type": "markdown",
   "metadata": {},
   "source": [
    "There we have it, a narrowed list of names - let's see if we can fit the final clue into the picture in order to wrap this case up!"
   ]
  },
  {
   "cell_type": "markdown",
   "metadata": {},
   "source": [
    "### Gathering Information on Memberships\n",
    "\n",
    "We have data from the following memberships on file:\n",
    "\n",
    "1. `AAA`\n",
    "2. `AAdvantage`\n",
    "3. `Costco`\n",
    "4. `Delta_SkyMiles`\n",
    "5. `Fitness_Galaxy`\n",
    "6. `Museum_of_Bash_History`\n",
    "7. `REI`\n",
    "8. `Rotary_Club`\n",
    "9. `TCSU_Alumni_Association`\n",
    "10. `Terminal_City_Library`\n",
    "11. `United_MileagePlus`\n",
    "\n",
    "From the evidence collected, input the memberships that the suspect held."
   ]
  },
  {
   "cell_type": "code",
   "execution_count": 48,
   "metadata": {},
   "outputs": [],
   "source": [
    "### START CODE HERE ###\n",
    "\n",
    "# Be sure to include all of the suspects memberships in the format provided above!\n",
    "memberships = [\n",
    "    \"AAA\", \"Delta_SkyMiles\", \"Museum_of_Bash_History\", \"Terminal_City_Library\"\n",
    "]\n",
    "\n",
    "### END CODE HERE ###\n",
    "\n",
    "memberships = list(map(lambda x: f\"{x}.csv\", memberships))"
   ]
  },
  {
   "cell_type": "markdown",
   "metadata": {},
   "source": [
    "We're going to be using a combination of `glob` and `os` again! Because those libraries should already be imported, we doon't need to import them again!"
   ]
  },
  {
   "cell_type": "code",
   "execution_count": 49,
   "metadata": {},
   "outputs": [
    {
     "name": "stdout",
     "output_type": "stream",
     "text": [
      "['./data/memberships\\\\TCSU_Alumni_Association.csv', './data/memberships\\\\Delta_SkyMiles.csv', './data/memberships\\\\United_MileagePlus.csv', './data/memberships\\\\Museum_of_Bash_History.csv', './data/memberships\\\\Rotary_Club.csv', './data/memberships\\\\Costco.csv', './data/memberships\\\\Fitness_Galaxy.csv', './data/memberships\\\\REI.csv', './data/memberships\\\\AAdvantage.csv', './data/memberships\\\\AAA.csv', './data/memberships\\\\Terminal_City_Library.csv']\n"
     ]
    }
   ],
   "source": [
    "files = os.path.join('./data/memberships/', '*.csv')\n",
    "files = glob.glob(files)\n",
    "print(files)"
   ]
  },
  {
   "cell_type": "markdown",
   "metadata": {},
   "source": [
    "Next we'll combine these `.csv` files together into a list of `pandas.DataFrame`s (read more about those [here](https://pandas.pydata.org/docs/reference/api/pandas.DataFrame.html))"
   ]
  },
  {
   "cell_type": "code",
   "execution_count": 50,
   "metadata": {},
   "outputs": [],
   "source": [
    "membership_dataframe_list = [pd.read_csv(file) for file in files if file.endswith(tuple(memberships))]"
   ]
  },
  {
   "cell_type": "markdown",
   "metadata": {},
   "source": [
    "Now, we'll find the intersection of the memberships using `pandas.merge` (read about it [here](https://pandas.pydata.org/docs/reference/api/pandas.merge.html)) on the list of dataframes.\n",
    "\n",
    "We're using `reduce` from functools (read about it [here](https://www.geeksforgeeks.org/reduce-in-python/)) to perform the `pandas.merge` operation on a number of `pandas.DataFrame`s."
   ]
  },
  {
   "cell_type": "code",
   "execution_count": 51,
   "metadata": {},
   "outputs": [],
   "source": [
    "from functools import reduce\n",
    "\n",
    "membership_suspects_dataframe = reduce(lambda x, y: pd.merge(x, y, how='inner'), membership_dataframe_list)"
   ]
  },
  {
   "cell_type": "markdown",
   "metadata": {},
   "source": [
    "### Putting it all together\n",
    "\n",
    "Alright, now that we have our vehicle suspects, our membership suspects, as well as the database of people - let's put this all together and see what we can find!\n",
    "\n",
    "First step is to merge the two suspect lists to narrow it down."
   ]
  },
  {
   "cell_type": "code",
   "execution_count": 52,
   "metadata": {},
   "outputs": [
    {
     "data": {
      "text/html": [
       "<div>\n",
       "<style scoped>\n",
       "    .dataframe tbody tr th:only-of-type {\n",
       "        vertical-align: middle;\n",
       "    }\n",
       "\n",
       "    .dataframe tbody tr th {\n",
       "        vertical-align: top;\n",
       "    }\n",
       "\n",
       "    .dataframe thead th {\n",
       "        text-align: right;\n",
       "    }\n",
       "</style>\n",
       "<table border=\"1\" class=\"dataframe\">\n",
       "  <thead>\n",
       "    <tr style=\"text-align: right;\">\n",
       "      <th></th>\n",
       "      <th>License Plate</th>\n",
       "      <th>Make</th>\n",
       "      <th>Color</th>\n",
       "      <th>Owner</th>\n",
       "      <th>Owner Height</th>\n",
       "      <th>Owner Weight (lbs.)</th>\n",
       "      <th>names</th>\n",
       "    </tr>\n",
       "  </thead>\n",
       "  <tbody>\n",
       "    <tr>\n",
       "      <th>0</th>\n",
       "      <td>L3375A9</td>\n",
       "      <td>Honda</td>\n",
       "      <td>Blue</td>\n",
       "      <td>Jeremy Bowers</td>\n",
       "      <td>6'1\"</td>\n",
       "      <td>204</td>\n",
       "      <td>Jeremy Bowers</td>\n",
       "    </tr>\n",
       "    <tr>\n",
       "      <th>1</th>\n",
       "      <td>L337WR9</td>\n",
       "      <td>Honda</td>\n",
       "      <td>Blue</td>\n",
       "      <td>Jacqui Maher</td>\n",
       "      <td>6'2\"</td>\n",
       "      <td>130</td>\n",
       "      <td>Jacqui Maher</td>\n",
       "    </tr>\n",
       "  </tbody>\n",
       "</table>\n",
       "</div>"
      ],
      "text/plain": [
       "  License Plate   Make Color          Owner Owner Height  Owner Weight (lbs.)  \\\n",
       "0       L3375A9  Honda  Blue  Jeremy Bowers         6'1\"                  204   \n",
       "1       L337WR9  Honda  Blue   Jacqui Maher         6'2\"                  130   \n",
       "\n",
       "           names  \n",
       "0  Jeremy Bowers  \n",
       "1   Jacqui Maher  "
      ]
     },
     "execution_count": 52,
     "metadata": {},
     "output_type": "execute_result"
    }
   ],
   "source": [
    "merged_suspect_dataframe = pd.merge(vehicle_suspects_dataframe, membership_suspects_dataframe, left_on='Owner', right_on='names')\n",
    "merged_suspect_dataframe.head()"
   ]
  },
  {
   "cell_type": "markdown",
   "metadata": {},
   "source": [
    "Gah! We have two suspects, let's check `people_dataframe` and see if there's anyway we can decide! \n",
    "\n",
    "HINT: Look at the new columns added as a result of the merge and remember what we know about our suspect!"
   ]
  },
  {
   "cell_type": "code",
   "execution_count": 53,
   "metadata": {},
   "outputs": [
    {
     "data": {
      "text/html": [
       "<div>\n",
       "<style scoped>\n",
       "    .dataframe tbody tr th:only-of-type {\n",
       "        vertical-align: middle;\n",
       "    }\n",
       "\n",
       "    .dataframe tbody tr th {\n",
       "        vertical-align: top;\n",
       "    }\n",
       "\n",
       "    .dataframe thead th {\n",
       "        text-align: right;\n",
       "    }\n",
       "</style>\n",
       "<table border=\"1\" class=\"dataframe\">\n",
       "  <thead>\n",
       "    <tr style=\"text-align: right;\">\n",
       "      <th></th>\n",
       "      <th>License Plate</th>\n",
       "      <th>Make</th>\n",
       "      <th>Color</th>\n",
       "      <th>Owner</th>\n",
       "      <th>Owner Height</th>\n",
       "      <th>Owner Weight (lbs.)</th>\n",
       "      <th>names</th>\n",
       "      <th>name</th>\n",
       "      <th>gender</th>\n",
       "      <th>age</th>\n",
       "      <th>address</th>\n",
       "    </tr>\n",
       "  </thead>\n",
       "  <tbody>\n",
       "    <tr>\n",
       "      <th>0</th>\n",
       "      <td>L3375A9</td>\n",
       "      <td>Honda</td>\n",
       "      <td>Blue</td>\n",
       "      <td>Jeremy Bowers</td>\n",
       "      <td>6'1\"</td>\n",
       "      <td>204</td>\n",
       "      <td>Jeremy Bowers</td>\n",
       "      <td>Jeremy Bowers</td>\n",
       "      <td>M</td>\n",
       "      <td>34</td>\n",
       "      <td>Dunstable Road, line 284</td>\n",
       "    </tr>\n",
       "    <tr>\n",
       "      <th>1</th>\n",
       "      <td>L337WR9</td>\n",
       "      <td>Honda</td>\n",
       "      <td>Blue</td>\n",
       "      <td>Jacqui Maher</td>\n",
       "      <td>6'2\"</td>\n",
       "      <td>130</td>\n",
       "      <td>Jacqui Maher</td>\n",
       "      <td>Jacqui Maher</td>\n",
       "      <td>F</td>\n",
       "      <td>40</td>\n",
       "      <td>Andover Road, line 224</td>\n",
       "    </tr>\n",
       "  </tbody>\n",
       "</table>\n",
       "</div>"
      ],
      "text/plain": [
       "  License Plate   Make Color          Owner Owner Height  Owner Weight (lbs.)  \\\n",
       "0       L3375A9  Honda  Blue  Jeremy Bowers         6'1\"                  204   \n",
       "1       L337WR9  Honda  Blue   Jacqui Maher         6'2\"                  130   \n",
       "\n",
       "           names           name gender  age                   address  \n",
       "0  Jeremy Bowers  Jeremy Bowers      M   34  Dunstable Road, line 284  \n",
       "1   Jacqui Maher   Jacqui Maher      F   40    Andover Road, line 224  "
      ]
     },
     "execution_count": 53,
     "metadata": {},
     "output_type": "execute_result"
    }
   ],
   "source": [
    "final_merged_dataframe = pd.merge(merged_suspect_dataframe, people_dataframe, left_on=\"Owner\", right_on='name')\n",
    "final_merged_dataframe.head()"
   ]
  },
  {
   "cell_type": "markdown",
   "metadata": {},
   "source": [
    "HINT: Look at the new columns added as a result of the merge and remember what we know about our suspect! Pay close attention to the `gender` column!"
   ]
  },
  {
   "cell_type": "markdown",
   "metadata": {},
   "source": [
    "Now that we have our final suspect, let's see if it's correct!"
   ]
  },
  {
   "cell_type": "code",
   "execution_count": 54,
   "metadata": {},
   "outputs": [
    {
     "name": "stdout",
     "output_type": "stream",
     "text": [
      "Congrats! You have officially solved the crime at the Pandas Express! Thanks for participating!\n",
      "And now that you've completed your ML software development onramp, tell the world that you're ready to begin your journey! \n",
      "\n",
      "---------------------------------------- Post Template 1 (MLE) ----------------------------------------------------\n",
      "I just completed the #ml software development onramp from @FourthBrain and solved a #whodunit mystery!\n",
      "Now I'm ready to take my #ml career to the next level with an industry-standard tool stack, including the Unix Command Line, Git, Conda, Pip, and of course, Jupyter Notebooks!\n",
      "#machinelearningengineering #mle #buildinpublic\n",
      "--------------------------------------------------------------------------------------------------------------------- \n",
      "\n",
      "\n",
      "\n",
      "---------------------------------------- Post Template 2 (MLOps) ----------------------------------------------------\n",
      "I just completed the #ml software development onramp from @FourthBrain and solved a #whodunit mystery!\n",
      "Now I’m ready to take my #ml career to the next level with an industry-standard tool stack including the Unix Command Line, Git, Conda, Pip, and Jupyter Notebooks, optimized for agile development in VSCode.\n",
      "#machinelearningoperations #mlops #buildinpublic\n",
      "---------------------------------------------------------------------------------------------------------------------\n",
      "\n",
      "\n",
      "As a bonus - Please checkout the main branch and execute this command in your command line: `git cat-file -p cefafaedfff0fc1e3495252571f48bf7b0d93673`\n"
     ]
    }
   ],
   "source": [
    "from helper_functions.check_name import check_name\n",
    "\n",
    "check_name('Jeremy Bowers')"
   ]
  }
 ],
 "metadata": {
  "kernelspec": {
   "display_name": "Python 3.8.15 ('mlops-course')",
   "language": "python",
   "name": "python3"
  },
  "language_info": {
   "codemirror_mode": {
    "name": "ipython",
    "version": 3
   },
   "file_extension": ".py",
   "mimetype": "text/x-python",
   "name": "python",
   "nbconvert_exporter": "python",
   "pygments_lexer": "ipython3",
   "version": "3.8.15"
  },
  "orig_nbformat": 4,
  "vscode": {
   "interpreter": {
    "hash": "d56e831f590792f95c57f226cd9c359a5c1024d48af795164eb3fb74523807fe"
   }
  }
 },
 "nbformat": 4,
 "nbformat_minor": 2
}
